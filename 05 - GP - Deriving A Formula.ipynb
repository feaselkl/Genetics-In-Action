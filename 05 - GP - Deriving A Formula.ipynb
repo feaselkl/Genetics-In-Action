{
 "cells": [
  {
   "cell_type": "markdown",
   "metadata": {},
   "source": [
    "# Deriving A Mathematical Formula\n",
    "\n",
    "In this demo, we will use genetic programming to determine a good mathematical formula given a particular set of input and output data.\n",
    "\n",
    "The library we are using is called `rgp` and is one of the genetic programming libraries for R. Unfortunately, it does appear to be in a defunct status, as there appear not to have been any updates to the code base since 2015."
   ]
  },
  {
   "cell_type": "code",
   "execution_count": null,
   "metadata": {
    "collapsed": false
   },
   "outputs": [],
   "source": [
    "if(!require(rgp)) {\n",
    "    install.packages(\"rgp\", repos = \"http://cran.us.r-project.org\")\n",
    "    library(rgp)\n",
    "}\n",
    "\n",
    "if(!require(igraph)) {\n",
    "  install.packages(\"igraph\", repos = \"http://cran.us.r-project.org\")\n",
    "  library(igraph)\n",
    "}"
   ]
  },
  {
   "cell_type": "markdown",
   "metadata": {},
   "source": [
    "We will start out with a set of x and y values.  There's no easy formula linking x and y, so we could see a relatively complex result here."
   ]
  },
  {
   "cell_type": "code",
   "execution_count": null,
   "metadata": {
    "collapsed": false
   },
   "outputs": [],
   "source": [
    "input_data <- data.frame(\n",
    "    x = c(1, 2, 3, 4, 5, 6, 7),\n",
    "    y = c(0, 26, 88, 186, 320, 490, 541)\n",
    ")\n",
    "plot(x,y)"
   ]
  },
  {
   "cell_type": "markdown",
   "metadata": {},
   "source": [
    "We will use three basic functions.  There are some functions for this problem that will result in error, like division (e.g., divide by zero errors), so we will stick to the safest operators for this demo."
   ]
  },
  {
   "cell_type": "code",
   "execution_count": null,
   "metadata": {
    "collapsed": true
   },
   "outputs": [],
   "source": [
    "function_set <- functionSet(\"+\", \"-\", \"*\")"
   ]
  },
  {
   "cell_type": "markdown",
   "metadata": {},
   "source": [
    "Instead of building up each of the individual variables, we will call the `symbolicRegression` function, which builds a regression problem.  This way, we don't need to define things like `inputVariableSet`, `constantFactorySet`, etc.  The fitness function is how closely the resulting formula matches to the data provided in the y value."
   ]
  },
  {
   "cell_type": "code",
   "execution_count": null,
   "metadata": {
    "collapsed": false
   },
   "outputs": [],
   "source": [
    "result <- symbolicRegression(\n",
    "    y ~ x,\n",
    "    data = input_data,\n",
    "    functionSet = function_set,\n",
    "    stopCondition = makeStepsStopCondition(500)\n",
    ")"
   ]
  },
  {
   "cell_type": "markdown",
   "metadata": {},
   "source": [
    "Now we can plot our results against the actual (x,y) coordinates to see how close our best shot was."
   ]
  },
  {
   "cell_type": "code",
   "execution_count": null,
   "metadata": {
    "collapsed": false
   },
   "outputs": [],
   "source": [
    "plot(input_data$y, col=1, type=\"l\"); points(predict(result, newdata = input_data), col=2, type=\"l\")"
   ]
  },
  {
   "cell_type": "markdown",
   "metadata": {},
   "source": [
    "It's a decent guess, but not perfect by any stretch.  Let's take a look at the function the genetic program generated."
   ]
  },
  {
   "cell_type": "code",
   "execution_count": null,
   "metadata": {
    "collapsed": false
   },
   "outputs": [],
   "source": [
    "best_result <- result$population[[which.min(result$fitnessValues)]]\n",
    "best_result"
   ]
  },
  {
   "cell_type": "markdown",
   "metadata": {},
   "source": [
    "The best result is a fairly complex polynomial.  It might be a little too complex to understand easily in this format, so we can use a tool called `igraph` to build a graph based on these results.\n",
    "\n",
    "As a note, `rgp` has a function called `funcToIgraph()` which we would call, passing in `best_result`.  Unfortunately, if you try to call `funcToIgraph(best_result)`, you get an error.  This is because when `rgp` was written, `igraph` had some code to monkey with 0-based arrays instead of the 1-based arrays that R uses.  That code was subsequently removed, but `rgp` was not updated to handle this.  Therefore, we need to create our own function which replaces what `funcToIgraph(best_result)` did."
   ]
  },
  {
   "cell_type": "code",
   "execution_count": null,
   "metadata": {
    "collapsed": true
   },
   "outputs": [],
   "source": [
    "exprToIgraph <- function(expr) {\n",
    "  if (!require(\"igraph\")) stop(\"exprToIgraph: Package 'igraph' not installed.\")\n",
    "  exprGraph <- exprToGraph(expr)\n",
    "  exprIgraph <- graph(exprGraph$edges, n = length(exprGraph$vertices)) # igraph vertexes used to be counted from zero but no longer are!\n",
    "  V(exprIgraph)$label <- exprGraph$vertices\n",
    "  exprIgraph\n",
    "}"
   ]
  },
  {
   "cell_type": "markdown",
   "metadata": {},
   "source": [
    "With that change now in place, we can call `exprToIgraph` and build up our graph tree."
   ]
  },
  {
   "cell_type": "code",
   "execution_count": null,
   "metadata": {
    "collapsed": false
   },
   "outputs": [],
   "source": [
    "final_graph <- exprToIgraph(body(best_result))\n",
    "plot(final_graph, layout=layout_as_tree, vertex.color=\"orange\", vertex.size=30, edge.arrow.size=0.1)"
   ]
  },
  {
   "cell_type": "markdown",
   "metadata": {},
   "source": [
    "This graph probably makes the most sense if you can easily read Reverse Polish Notation.  Still, it's nice that we are able to visualize the outputs of a genetic program.  This is most useful when we build decision tree-like programs which use conditional logic to make decisions, instead of the mathematical formula derivation functions that we have created thus far."
   ]
  },
  {
   "cell_type": "code",
   "execution_count": null,
   "metadata": {
    "collapsed": true
   },
   "outputs": [],
   "source": []
  }
 ],
 "metadata": {
  "kernelspec": {
   "display_name": "R",
   "language": "R",
   "name": "ir"
  },
  "language_info": {
   "codemirror_mode": "r",
   "file_extension": ".r",
   "mimetype": "text/x-r-source",
   "name": "R",
   "pygments_lexer": "r",
   "version": "3.3.2"
  }
 },
 "nbformat": 4,
 "nbformat_minor": 2
}
