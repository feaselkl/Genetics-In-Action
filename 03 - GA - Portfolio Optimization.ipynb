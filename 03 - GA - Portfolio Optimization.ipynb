{
 "cells": [
  {
   "cell_type": "markdown",
   "metadata": {},
   "source": [
    "# Portfolio Optimization\n",
    "\n",
    "For this demo, we will look at using genetic algorithm to optimize a portfolio of stock.  Without getting too far into details about portfolio theory, the goal of portfolio optimization is to maximize return on investment for some given risk appetite.\n",
    "\n",
    "Specifically, we have a set of stocks, each of which has some return on investment and some stock price variance.  We'll normalize our budget to 1.  Given that normalized budget, we want to put together a combination of stocks to maximize return on investment.\n",
    "\n",
    "In our example below, we will not have a fixed acceptable variance, but will instead penalize results with higher variance."
   ]
  },
  {
   "cell_type": "code",
   "execution_count": null,
   "metadata": {},
   "outputs": [],
   "source": [
    "if(!require(GA)) {\n",
    "    install.packages(\"GA\", repos = \"http://cran.us.r-project.org\")\n",
    "    library(GA)\n",
    "}\n",
    "\n",
    "if(!require(quantmod)) {\n",
    "    install.packages(\"quantmod\", repos = \"http://cran.us.r-project.org\")\n",
    "    library(quantmod)\n",
    "}\n",
    "\n",
    "if(!require(timeSeries)) {\n",
    "    install.packages(\"timeSeries\", repos = \"http://cran.us.r-project.org\")\n",
    "    library(timeSeries)\n",
    "}"
   ]
  },
  {
   "cell_type": "markdown",
   "metadata": {},
   "source": [
    "We start by defining the set of available stocks.  This includes a number of tech and blue-chip stocks that you may imagine would be good for a portfolio."
   ]
  },
  {
   "cell_type": "code",
   "execution_count": null,
   "metadata": {
    "collapsed": true
   },
   "outputs": [],
   "source": [
    "available_stocks <- c(\"AAPL\", \"XOM\", \"GOOGL\", \"MSFT\", \"GE\", \"JNJ\", \"WMT\", \"CVX\", \"PG\", \"WFC\")"
   ]
  },
  {
   "cell_type": "markdown",
   "metadata": {},
   "source": [
    "Next, we want to use the `quantmod` package to retrieve stock information from Google.  The `getSymbols` method retrieves data for us for that particular stock symbol.  Then, the `monthlyReturn` function generates a return on investment for each month in the data set.  We pass in a `subset` parameter which limits our results to the years 2016 and 2017 to make our analysis a little more readable."
   ]
  },
  {
   "cell_type": "code",
   "execution_count": null,
   "metadata": {},
   "outputs": [],
   "source": [
    "quantmod::getSymbols(available_stocks, src = \"google\")\n",
    "returns <- lapply(available_stocks, function(s) {\n",
    "  quantmod::monthlyReturn(eval(parse(text = s)), subset = \"2016::2017\")\n",
    "})\n",
    "returns <- do.call(cbind,returns)\n",
    "colnames(returns) <- available_stocks"
   ]
  },
  {
   "cell_type": "markdown",
   "metadata": {},
   "source": [
    "Now that we have data for our 10 stocks, we will plot their returns.  We generate one plot per stock.  A value of 0 means a 0% return on investment.  0.05 is a 5% return on investment over the course of a month."
   ]
  },
  {
   "cell_type": "code",
   "execution_count": null,
   "metadata": {},
   "outputs": [],
   "source": [
    "plot(as.timeSeries(returns), at = \"chic\", minor.ticks=\"month\",\n",
    "     mar.multi = c(0.2, 5.1, 0.2, 1.1), oma.multi = c(4, 0, 4, 0),\n",
    "     col = .colorwheelPalette(10), cex.lab = 0.8, cex.axis = 0.8\n",
    ")\n",
    "title(\"Portfolio Returns\")"
   ]
  },
  {
   "cell_type": "markdown",
   "metadata": {},
   "source": [
    "We have an idea of which stocks are growing and which are not, but that's only part of the solution.  We also need to get volatility scores.  The next section builds up the formula we'll use as part of the genetic algorithm."
   ]
  },
  {
   "cell_type": "code",
   "execution_count": null,
   "metadata": {
    "collapsed": true
   },
   "outputs": [],
   "source": [
    "nStocks <- ncol(returns)   # number of portfolio assets\n",
    "R <- colMeans(returns)     # average monthly returns\n",
    "S <- cov(returns)          # covariance matrix of monthly returns\n",
    "s <- sqrt(diag(S))         # volatility of monthly returns"
   ]
  },
  {
   "cell_type": "code",
   "execution_count": null,
   "metadata": {},
   "outputs": [],
   "source": [
    "plot(s, R, type = \"n\", panel.first = grid(), xlab = \"Std. dev. monthly returns\", ylab = \"Average monthly returns\")\n",
    "text(s, R, names(R), col = .colorwheelPalette(10), font = 2)"
   ]
  },
  {
   "cell_type": "markdown",
   "metadata": {},
   "source": [
    "This plot shows return on the y axis and volatility on the x axis.  Ideally, we want stocks in the top-left portion.\n",
    "\n",
    "Now that we have an idea of what the stocks look like, let's build the functions we need.  First up, we will build three functions, one to normalize weights, one to generate an expected return, and one to build our volatility."
   ]
  },
  {
   "cell_type": "code",
   "execution_count": null,
   "metadata": {
    "collapsed": true
   },
   "outputs": [],
   "source": [
    "weights <- function(w) { drop(w/sum(w)) }\n",
    "ExpReturn <- function(w) { sum(weights(w)*R) }\n",
    "VarPortfolio <- function(w) {\n",
    "  w <- weights(w)\n",
    "  drop(w %*% S %*% w)\n",
    "}"
   ]
  },
  {
   "cell_type": "markdown",
   "metadata": {},
   "source": [
    "Our fitness function is fairly simple.  Given a set of weights, we want to build a penalty function based on volatility.  If the expected return is less than 0, add a very heavy penalty weight of 100 * return^2.\n",
    "\n",
    "Note that my final formula uses 5 as a hard-coded weight.  That's a fudge factor that I've added in to introduce a desire for stability (reducing volatility) without completely abandoning any type of return on investment."
   ]
  },
  {
   "cell_type": "code",
   "execution_count": null,
   "metadata": {
    "collapsed": true
   },
   "outputs": [],
   "source": [
    "fitness <- function(w) {\n",
    "  ER <- ExpReturn(w) - 0.01\n",
    "  penalty <- if(ER < 0) 100*ER^2 else 0\n",
    "  ER - 5 * (VarPortfolio(w) + penalty)\n",
    "}"
   ]
  },
  {
   "cell_type": "markdown",
   "metadata": {},
   "source": [
    "Now we can run the genetic algorithm."
   ]
  },
  {
   "cell_type": "code",
   "execution_count": null,
   "metadata": {},
   "outputs": [],
   "source": [
    "GA <- ga(type = \"real-valued\", fitness = fitness,\n",
    "           min = rep(0, nStocks), max = rep(1, nStocks), names = available_stocks,\n",
    "           maxiter = 1000, run = 200, optim = TRUE)"
   ]
  },
  {
   "cell_type": "code",
   "execution_count": null,
   "metadata": {},
   "outputs": [],
   "source": [
    "summary(GA)"
   ]
  },
  {
   "cell_type": "markdown",
   "metadata": {},
   "source": [
    "This returns some solution matrix, but these numbers are *not* the percentages of our portfolio!  We need to calculate those separately in order to get the expected return."
   ]
  },
  {
   "cell_type": "code",
   "execution_count": null,
   "metadata": {},
   "outputs": [],
   "source": [
    "(w <- weights(GA@solution))"
   ]
  },
  {
   "cell_type": "code",
   "execution_count": null,
   "metadata": {},
   "outputs": [],
   "source": [
    "ExpReturn(w)"
   ]
  },
  {
   "cell_type": "code",
   "execution_count": null,
   "metadata": {},
   "outputs": [],
   "source": [
    "VarPortfolio(w)"
   ]
  },
  {
   "cell_type": "markdown",
   "metadata": {},
   "source": [
    "And if you want a colorful bar plot which shows portfolio selections, here you go:"
   ]
  },
  {
   "cell_type": "code",
   "execution_count": null,
   "metadata": {},
   "outputs": [],
   "source": [
    "barplot(w, xlab = \"Stocks\", ylab = \"Portfolio weights\",\n",
    "          cex.names = 0.7, col = .colorwheelPalette(10))"
   ]
  },
  {
   "cell_type": "code",
   "execution_count": null,
   "metadata": {
    "collapsed": true
   },
   "outputs": [],
   "source": []
  }
 ],
 "metadata": {
  "kernelspec": {
   "display_name": "R",
   "language": "R",
   "name": "ir"
  },
  "language_info": {
   "codemirror_mode": "r",
   "file_extension": ".r",
   "mimetype": "text/x-r-source",
   "name": "R",
   "pygments_lexer": "r",
   "version": "3.5.1"
  }
 },
 "nbformat": 4,
 "nbformat_minor": 2
}
