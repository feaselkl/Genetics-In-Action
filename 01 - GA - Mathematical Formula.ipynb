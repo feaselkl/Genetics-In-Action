{
 "cells": [
  {
   "cell_type": "markdown",
   "metadata": {},
   "source": [
    "# Maximizing A Mathematical Function\n",
    "\n",
    "The purpose of this program is to find the maximum point in a function.\n",
    "\n",
    "We will use the ``GA`` library to build and implement a simple genetic algorithm to solve this problem."
   ]
  },
  {
   "cell_type": "code",
   "execution_count": null,
   "metadata": {
    "collapsed": false
   },
   "outputs": [],
   "source": [
    "if(!require(GA)) {\n",
    "    install.packages(\"GA\", repos = \"http://cran.us.r-project.org\")\n",
    "    library(GA)\n",
    "}"
   ]
  },
  {
   "cell_type": "markdown",
   "metadata": {},
   "source": [
    "There are two maxima, one local maximum at approximately -6.5 and a global maximum at approximately 6.5.  Our range will fit from -10 to 10."
   ]
  },
  {
   "cell_type": "code",
   "execution_count": null,
   "metadata": {
    "collapsed": false
   },
   "outputs": [],
   "source": [
    "f <- function(x) { (x^2+x)*cos(x) }\n",
    "min <- -10; max <- 10\n",
    "curve(f, min, max, n = 1000)"
   ]
  },
  {
   "cell_type": "markdown",
   "metadata": {},
   "source": [
    "Building a genetic algorithm to solve this is simple:"
   ]
  },
  {
   "cell_type": "code",
   "execution_count": null,
   "metadata": {
    "collapsed": true
   },
   "outputs": [],
   "source": [
    "GA <- ga(type = \"real-valued\", fitness = f, min = min, max = max, monitor = FALSE)"
   ]
  },
  {
   "cell_type": "code",
   "execution_count": null,
   "metadata": {
    "collapsed": false
   },
   "outputs": [],
   "source": [
    "summary(GA)"
   ]
  },
  {
   "cell_type": "markdown",
   "metadata": {},
   "source": [
    "Running a summary shows us the main solution at 6.56, with y valued at 47.70.  By default, we used a crossover possibility of 80% and a mutation probability of 10%.  The mutation rate seems a bit high for a default, but it did lead us to an answer.  Now let's check the convergence rate:"
   ]
  },
  {
   "cell_type": "code",
   "execution_count": null,
   "metadata": {
    "collapsed": false
   },
   "outputs": [],
   "source": [
    "plot(GA)"
   ]
  },
  {
   "cell_type": "markdown",
   "metadata": {},
   "source": [
    "It looks like the best performers in the first 10 or so generations were caught in the local maximum around -6.5.  Then, some members of the population found the global maximum and we stayed at that maximum for the rest of the trial.  By generation 30, the median value was near the global optimum and we see major convergence in the later generations.  Despite this, the mean value fluctuates significantly, indicating that a decent segment of the population provided us with miserable scores.  The **best** members of a genetic algorithm population tend to be good, but that doesn't mean that **all** members will be equally good.\n",
    "\n",
    "Finally, let's plot the best result.  ga is an R4 class so we use the `@` operator to access properties on the class.  The properties we are interested in are `solution` and `fitnessValue`.  Because our single variable is a real value, we can plot the solution value and fitness score as the x and y variables, respectively."
   ]
  },
  {
   "cell_type": "code",
   "execution_count": null,
   "metadata": {
    "collapsed": false
   },
   "outputs": [],
   "source": [
    "curve(f, min, max, n = 1000)\n",
    "points(GA@solution, GA@fitnessValue, col = 2, pch = 19)"
   ]
  },
  {
   "cell_type": "code",
   "execution_count": null,
   "metadata": {
    "collapsed": true
   },
   "outputs": [],
   "source": []
  }
 ],
 "metadata": {
  "kernelspec": {
   "display_name": "R",
   "language": "R",
   "name": "ir"
  },
  "language_info": {
   "codemirror_mode": "r",
   "file_extension": ".r",
   "mimetype": "text/x-r-source",
   "name": "R",
   "pygments_lexer": "r",
   "version": "3.3.2"
  }
 },
 "nbformat": 4,
 "nbformat_minor": 2
}
